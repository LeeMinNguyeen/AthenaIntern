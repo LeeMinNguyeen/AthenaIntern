{
 "cells": [
  {
   "cell_type": "code",
   "execution_count": 9,
   "id": "c10fdbcc",
   "metadata": {},
   "outputs": [
    {
     "name": "stdout",
     "output_type": "stream",
     "text": [
      "{'images': [{'url': 'https://v3.fal.media/files/monkey/UFtiJ1OcEyZfCnQ8YQ8dD.jpeg', 'width': 1024, 'height': 768, 'content_type': 'image/jpeg'}], 'timings': {'inference': 1.2249071109108627}, 'seed': 1393570302, 'has_nsfw_concepts': [False], 'prompt': 'photo of a rhino dressed suit and tie sitting at a table in a bar with a bar stools, award winning photography, Elke vogelsang'}\n",
      "https://v3.fal.media/files/monkey/UFtiJ1OcEyZfCnQ8YQ8dD.jpeg\n"
     ]
    }
   ],
   "source": [
    "import fal_client\n",
    "import os\n",
    "from dotenv import load_dotenv\n",
    "\n",
    "load_dotenv()\n",
    "os.environ[\"FAL_KEY\"] = os.getenv(\"FAL_KEY\")\n",
    "\n",
    "handler = fal_client.submit(\n",
    "    \"fal-ai/flux/dev\",\n",
    "    arguments={\n",
    "        \"prompt\": \"photo of a rhino dressed suit and tie sitting at a table in a bar with a bar stools, award winning photography, Elke vogelsang\",\n",
    "        \"output_format\": \"jpeg\",\n",
    "    },\n",
    ")\n",
    "\n",
    "result = handler.get()\n",
    "print(result)\n",
    "print(result['images'][0]['url'])"
   ]
  },
  {
   "cell_type": "code",
   "execution_count": 6,
   "id": "6a62a54d",
   "metadata": {},
   "outputs": [
    {
     "name": "stdout",
     "output_type": "stream",
     "text": [
      "{'url': 'https://v3.fal.media/files/rabbit/Me56MO_zxd9IhDivFTG01_output.mp4', 'content_type': 'video/mp4', 'file_name': 'output.mp4', 'file_size': 1361651}\n"
     ]
    }
   ],
   "source": [
    "result = fal_client.subscribe(\n",
    "    \"fal-ai/minimax/hailuo-02/standard/image-to-video\",\n",
    "    arguments={\n",
    "        \"prompt\": \"Man walked into winter cave with polar bear\",\n",
    "        \"image_url\": \"https://storage.googleapis.com/falserverless/model_tests/minimax/1749891352437225630-389852416840474630_1749891352.png\"\n",
    "    },\n",
    ")\n",
    "print(result['video'])"
   ]
  },
  {
   "cell_type": "code",
   "execution_count": null,
   "id": "01162da1",
   "metadata": {},
   "outputs": [
    {
     "name": "stdout",
     "output_type": "stream",
     "text": [
      "{'audio_file': {'url': 'https://v3.fal.media/files/rabbit/YblAArGdRvVlhJJX_2Ruy_generated.wav', 'content_type': 'application/octet-stream', 'file_name': 'generated.wav', 'file_size': 882078}}\n"
     ]
    }
   ],
   "source": [
    "result = fal_client.subscribe(\n",
    "    \"cassetteai/sound-effects-generator\",\n",
    "    arguments={\n",
    "        \"prompt\": \"dog barking in the rain\",\n",
    "        \"duration\": 5\n",
    "    },\n",
    "    )\n",
    "print(result['audio_file'])"
   ]
  }
 ],
 "metadata": {
  "kernelspec": {
   "display_name": ".venv",
   "language": "python",
   "name": "python3"
  },
  "language_info": {
   "codemirror_mode": {
    "name": "ipython",
    "version": 3
   },
   "file_extension": ".py",
   "mimetype": "text/x-python",
   "name": "python",
   "nbconvert_exporter": "python",
   "pygments_lexer": "ipython3",
   "version": "3.13.5"
  }
 },
 "nbformat": 4,
 "nbformat_minor": 5
}
